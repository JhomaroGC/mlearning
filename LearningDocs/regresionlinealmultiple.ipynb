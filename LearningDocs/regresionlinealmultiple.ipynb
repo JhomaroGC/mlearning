{
 "cells": [
  {
   "cell_type": "markdown",
   "source": [
    "Regresión Lineal Múltiple\r\n",
    "\r\n",
    "Se manejan muliples variables independientes que contribuyen a la variable dependiente.\r\n",
    "Se manejan coeficientes y es más compleja debido a las variables añadidas.\r\n",
    "su fórmula es y = a1*x1 + a2*x2 + ... + an*xn + b, donde:\r\n",
    "* a1...n son Coeficientes\r\n",
    "* x1...n son Variables independientes\r\n",
    "\r\n",
    "No incluimos todas las variables independientes a la vez y posteriormente comenzamos a minimizar la función de error.\r\n",
    "\r\n",
    "Se debe enfocar en seleccionar las mejores variables independientes que puedan contribuir a la variable dependiente \r\n",
    "\r\n",
    "\r\n",
    "\r\n"
   ],
   "metadata": {}
  },
  {
   "cell_type": "code",
   "execution_count": null,
   "source": [
    "y = "
   ],
   "outputs": [],
   "metadata": {}
  },
  {
   "cell_type": "code",
   "execution_count": null,
   "source": [
    "Perror = 0.3"
   ],
   "outputs": [],
   "metadata": {}
  }
 ],
 "metadata": {
  "orig_nbformat": 4,
  "language_info": {
   "name": "python"
  }
 },
 "nbformat": 4,
 "nbformat_minor": 2
}